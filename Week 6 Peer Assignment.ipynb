{
  "cells": [
    {
      "cell_type": "markdown",
      "metadata": {},
      "source": [
        "Peer-graded Assignment- Week 6"
      ]
    },
    {
      "cell_type": "markdown",
      "metadata": {},
      "source": [
        "Introduction:\n",
        "This notebook will outline multiple data tool & data science knowledge that we learned over week 6"
      ]
    },
    {
      "cell_type": "markdown",
      "metadata": {},
      "source": [
        "Here is a list of popular data science languages\n",
        "-  R\n",
        "-  SQL\n",
        "-  Python\n",
        "-  Javascript\n",
        "-  C/C++\n",
        "-  Julia\n",
        "-  Scala\n"
      ]
    },
    {
      "cell_type": "markdown",
      "metadata": {},
      "source": [
        "Some commonly used libraries used in data science include:\n",
        "-  Scipy\n",
        "-  Pandas\n",
        "-  numpy\n",
        "-  tensorflow\n",
        "-  matplotlib\n",
        "-  keras\n",
        "-  pytorch\n",
        "-  Scikit-Learn"
      ]
    },
    {
      "cell_type": "markdown",
      "metadata": {},
      "source": [
        "|Data | Science |Tools|\n",
        "|:--------:|:--------:|:--------:|\n",
        "|  SQL   |  RStudio   |  BigML   |\n",
        "|  Seaborn   |  MondoDB   |  Hadoop|\n",
        "|  SAS | Keras | Power BI |\n",
        "\n",
        "\n"
      ]
    },
    {
      "cell_type": "markdown",
      "metadata": {},
      "source": [
        "Below are a few examples of arithmetic expressions in Python\n",
        "\n"
      ]
    },
    {
      "cell_type": "code",
      "execution_count": 2,
      "metadata": {
        "trusted": true
      },
      "outputs": [
        {
          "data": {
            "text/plain": [
              "108"
            ]
          },
          "execution_count": 2,
          "metadata": {},
          "output_type": "execute_result"
        }
      ],
      "source": [
        "code1 = compile(\"(12 + 15) * 4\", \"<string>\", \"eval\")\n",
        "eval(code1)\n",
        "# Result: 108"
      ]
    },
    {
      "cell_type": "code",
      "execution_count": 5,
      "metadata": {
        "trusted": true
      },
      "outputs": [
        {
          "data": {
            "text/plain": [
              "2693.9157004532476"
            ]
          },
          "execution_count": 5,
          "metadata": {},
          "output_type": "execute_result"
        }
      ],
      "source": [
        "import math\n",
        "# Volume of a sphere\n",
        "code2 = compile(\"5 / 2 * math.pi * math.pow(7, 3)\", \"<string>\", \"eval\")\n",
        "eval(code2)\n"
      ]
    },
    {
      "cell_type": "markdown",
      "metadata": {},
      "source": [
        "Here is an example of creating a code cell to multply and add numbers"
      ]
    },
    {
      "cell_type": "code",
      "execution_count": 7,
      "metadata": {
        "trusted": true
      },
      "outputs": [
        {
          "data": {
            "text/plain": [
              "400"
            ]
          },
          "execution_count": 7,
          "metadata": {},
          "output_type": "execute_result"
        }
      ],
      "source": [
        "(6+19)*16"
      ]
    },
    {
      "cell_type": "markdown",
      "metadata": {},
      "source": [
        "I have created a code cell to convert minutes to hours"
      ]
    },
    {
      "cell_type": "code",
      "execution_count": 11,
      "metadata": {
        "trusted": true
      },
      "outputs": [
        {
          "name": "stdout",
          "output_type": "stream",
          "text": [
            "0 days, 8.333333333333334 hours, 0 mins. \n"
          ]
        }
      ],
      "source": [
        "days = 0\n",
        "hours = 0\n",
        "mins = 0\n",
        "\n",
        "time = 500\n",
        "#days = time / 1460\n",
        "leftover_minutes = time % 1460\n",
        "hours = leftover_minutes / 60\n",
        "#mins = time - (days*1440) - (hours*60)\n",
        "print(str(days) + \" days, \" + str(hours) + \" hours, \" + str(mins) +  \" mins. \")\n",
        "\n"
      ]
    },
    {
      "cell_type": "markdown",
      "metadata": {},
      "source": [
        "Objectives:\n",
        "- List popular languages that Data Scientists use.\n",
        "- List commonly used libraries used by Data Scientists.\n",
        "- Comment on Data Science tools.\n",
        "- Code basic math and time conversions in Python"
      ]
    },
    {
      "cell_type": "markdown",
      "metadata": {},
      "source": [
        "Author:\n",
        "Cortney Shewbart"
      ]
    },
    {
      "cell_type": "code",
      "execution_count": null,
      "metadata": {
        "trusted": true
      },
      "outputs": [],
      "source": []
    }
  ],
  "metadata": {
    "kernelspec": {
      "display_name": "Python (Pyodide)",
      "language": "python",
      "name": "python"
    },
    "language_info": {
      "codemirror_mode": {
        "name": "python",
        "version": 3
      },
      "file_extension": ".py",
      "mimetype": "text/x-python",
      "name": "python",
      "nbconvert_exporter": "python",
      "pygments_lexer": "ipython3",
      "version": "3.8"
    }
  },
  "nbformat": 4,
  "nbformat_minor": 4
}
